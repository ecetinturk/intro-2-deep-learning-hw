{
  "cells": [
    {
      "cell_type": "markdown",
      "source": [
        "# **Deep Learning HW5**\n",
        "\n",
        "**Emirhan ÇETİNTÜRK**\n",
        "\n",
        "**152120201124**\n",
        "\n",
        "---\n",
        "\n",
        "\n",
        "Colaboratory'nin Drive ile iletişimine izin verildi. Sonraki adımda ise CaltechTinySplit isimli ZIP dosyasının içeriği aynı isme sahip bir klasöre çıkartıldı."
      ],
      "metadata": {
        "id": "C7oNktkhEJu9"
      }
    },
    {
      "cell_type": "code",
      "source": [
        "if 0:\n",
        "    from google.colab import drive\n",
        "    drive.mount('/content/drive')"
      ],
      "metadata": {
        "id": "jyjruMGUkMwa",
        "colab": {
          "base_uri": "https://localhost:8080/"
        },
        "outputId": "904b3a36-89f4-4ec5-9a33-343598be0c7b"
      },
      "execution_count": 1,
      "outputs": [
        {
          "output_type": "stream",
          "name": "stdout",
          "text": [
            "Mounted at /content/drive\n"
          ]
        }
      ]
    },
    {
      "cell_type": "code",
      "source": [
        "if 0:\n",
        "    ! cp /content/drive/MyDrive/HW5-gear.zip /content/\n",
        "    ! unzip HW5-gear.zip -d /content/HW5-gear"
      ],
      "metadata": {
        "id": "V7Ly3jhykefY",
        "colab": {
          "base_uri": "https://localhost:8080/"
        },
        "outputId": "d455de5d-cf3c-405c-fbd9-8361ff00a510"
      },
      "execution_count": 2,
      "outputs": [
        {
          "output_type": "stream",
          "name": "stdout",
          "text": [
            "Archive:  HW5-gear.zip\n",
            "  inflating: /content/HW5-gear/data/DataForClassification_Stage0.npy  \n",
            "  inflating: /content/HW5-gear/data/DataForClassification_TimeDomain.npy  \n",
            "  inflating: /content/HW5-gear/HW5-gear.pdf  \n"
          ]
        }
      ]
    },
    {
      "cell_type": "markdown",
      "source": [
        "\n",
        "\n",
        "---\n",
        "\n",
        "Keras için gerekli Tensorflow eklentilerinin bulunduğu kütüphane kuruldu.\n",
        "\n",
        "\n",
        "---\n",
        "\n"
      ],
      "metadata": {
        "id": "iiU0ErCMEQ1H"
      }
    },
    {
      "cell_type": "code",
      "source": [
        "!pip install tensorflow-addons"
      ],
      "metadata": {
        "colab": {
          "base_uri": "https://localhost:8080/"
        },
        "id": "kKLek_FdnelQ",
        "outputId": "33dc8ff0-f227-4c2d-bf13-1d6a1c199f2e"
      },
      "execution_count": 3,
      "outputs": [
        {
          "output_type": "stream",
          "name": "stdout",
          "text": [
            "Looking in indexes: https://pypi.org/simple, https://us-python.pkg.dev/colab-wheels/public/simple/\n",
            "Collecting tensorflow-addons\n",
            "  Downloading tensorflow_addons-0.19.0-cp38-cp38-manylinux_2_17_x86_64.manylinux2014_x86_64.whl (1.1 MB)\n",
            "\u001b[K     |████████████████████████████████| 1.1 MB 14.6 MB/s \n",
            "\u001b[?25hRequirement already satisfied: packaging in /usr/local/lib/python3.8/dist-packages (from tensorflow-addons) (21.3)\n",
            "Requirement already satisfied: typeguard>=2.7 in /usr/local/lib/python3.8/dist-packages (from tensorflow-addons) (2.7.1)\n",
            "Requirement already satisfied: pyparsing!=3.0.5,>=2.0.2 in /usr/local/lib/python3.8/dist-packages (from packaging->tensorflow-addons) (3.0.9)\n",
            "Installing collected packages: tensorflow-addons\n",
            "Successfully installed tensorflow-addons-0.19.0\n"
          ]
        }
      ]
    },
    {
      "cell_type": "markdown",
      "source": [
        "---\n",
        "\n",
        "İşlemlerin daha hızlı gerçekleştirilebilmesi için program GPU ile çalıştırıldı. Bunun için \"nvidia-smi\" komutu konfigürasyon için çalıştırıldı.\n",
        "\n",
        "---"
      ],
      "metadata": {
        "id": "32lazx-AERkf"
      }
    },
    {
      "cell_type": "code",
      "source": [
        "!nvidia-smi  # GPU Configuration"
      ],
      "metadata": {
        "colab": {
          "base_uri": "https://localhost:8080/"
        },
        "id": "QDrtsvfAv4eI",
        "outputId": "e62162c3-6b30-4ab7-9e59-0fca3672af3b"
      },
      "execution_count": 4,
      "outputs": [
        {
          "output_type": "stream",
          "name": "stdout",
          "text": [
            "Mon Dec 12 18:17:39 2022       \n",
            "+-----------------------------------------------------------------------------+\n",
            "| NVIDIA-SMI 460.32.03    Driver Version: 460.32.03    CUDA Version: 11.2     |\n",
            "|-------------------------------+----------------------+----------------------+\n",
            "| GPU  Name        Persistence-M| Bus-Id        Disp.A | Volatile Uncorr. ECC |\n",
            "| Fan  Temp  Perf  Pwr:Usage/Cap|         Memory-Usage | GPU-Util  Compute M. |\n",
            "|                               |                      |               MIG M. |\n",
            "|===============================+======================+======================|\n",
            "|   0  Tesla T4            Off  | 00000000:00:04.0 Off |                    0 |\n",
            "| N/A   69C    P0    31W /  70W |      0MiB / 15109MiB |      0%      Default |\n",
            "|                               |                      |                  N/A |\n",
            "+-------------------------------+----------------------+----------------------+\n",
            "                                                                               \n",
            "+-----------------------------------------------------------------------------+\n",
            "| Processes:                                                                  |\n",
            "|  GPU   GI   CI        PID   Type   Process name                  GPU Memory |\n",
            "|        ID   ID                                                   Usage      |\n",
            "|=============================================================================|\n",
            "|  No running processes found                                                 |\n",
            "+-----------------------------------------------------------------------------+\n"
          ]
        }
      ]
    },
    {
      "cell_type": "markdown",
      "source": [
        "---\n",
        "\n",
        "Gerekli kütüphaneler eklendi.\n",
        "\n",
        "---"
      ],
      "metadata": {
        "id": "S57hBuYlEXI9"
      }
    },
    {
      "cell_type": "code",
      "execution_count": 5,
      "metadata": {
        "_cell_guid": "b1076dfc-b9ad-4769-8c92-a6c4dae69d19",
        "_uuid": "8f2839f25d086af736a60e9eeb907d3b93b6e0e5",
        "id": "rx2ppyEChPlO"
      },
      "outputs": [],
      "source": [
        "# This Python 3 environment comes with many helpful analytics libraries installed\n",
        "# It is defined by the kaggle/python docker image: https://github.com/kaggle/docker-python\n",
        "# For example, here's several helpful packages to load in \n",
        "\n",
        "import numpy as np # linear algebra\n",
        "import pandas as pd # data processing, CSV file I/O (e.g. pd.read_csv)\n",
        "import keras \n",
        "from keras.models import Sequential\n",
        "from keras.layers import Conv2D, Dense, MaxPool2D, Dropout, Flatten\n",
        "from keras.optimizers import Adam\n",
        "from keras.preprocessing.image import ImageDataGenerator\n",
        "from keras.callbacks import ReduceLROnPlateau\n",
        "from sklearn.model_selection import train_test_split\n",
        "import matplotlib.pyplot as plt\n",
        "import seaborn as sns\n",
        "\n",
        "# Input data files are available in the \"/content/digit-recognizer/\" directory.\n",
        "# For example, running this (by clicking run or pressing Shift+Enter) will list the files in the input directory\n",
        "\n",
        "import os\n",
        "\n",
        "\n",
        "# Any results you write to the current directory are saved as output."
      ]
    },
    {
      "cell_type": "markdown",
      "metadata": {
        "_cell_guid": "79c7e3d0-c299-4dcb-8224-4455121ee9b0",
        "_uuid": "d629ff2d2480ee46fbb7e2d37f6b5fab8052498a",
        "collapsed": true,
        "id": "YqapNbvehPlQ"
      },
      "source": [
        "# Load Data"
      ]
    },
    {
      "cell_type": "markdown",
      "source": [
        "---\n",
        "\n",
        "Ödev için kullanılacak olan veri seti yüklendi. Veri seti 9 adet sınıftan oluşuyor.\n",
        "\n",
        "---\n",
        "\n"
      ],
      "metadata": {
        "id": "NkTpNrWWEf2W"
      }
    },
    {
      "cell_type": "code",
      "source": [
        "X_train = np.load('/content/HW5-gear/data/DataForClassification_TimeDomain.npy')\n",
        "X_train = np.transpose(X_train)\n",
        "print(X_train.shape)"
      ],
      "metadata": {
        "colab": {
          "base_uri": "https://localhost:8080/"
        },
        "id": "fx7rXIkGkCm-",
        "outputId": "ae30f2b9-388f-4701-b792-a9598ade58e8"
      },
      "execution_count": 6,
      "outputs": [
        {
          "output_type": "stream",
          "name": "stdout",
          "text": [
            "(936, 3600)\n"
          ]
        }
      ]
    },
    {
      "cell_type": "code",
      "source": [
        "#types=9={'healthy','missing','crack','spall','chip5a','chip4a','chip3a','chip2a','chip1a'}"
      ],
      "metadata": {
        "id": "HAImWLQXmCj8"
      },
      "execution_count": 7,
      "outputs": []
    },
    {
      "cell_type": "markdown",
      "source": [
        "---\n",
        "\n",
        "936 adet eleman sınıflara bölündü. Her bir sınıfın indisi ekrana bastırıldı.\n",
        "\n",
        "---\n",
        "\n"
      ],
      "metadata": {
        "id": "Sko_8TCBEqOC"
      }
    },
    {
      "cell_type": "code",
      "source": [
        "Y_train = np.zeros((936,1))\n",
        "label=0\n",
        "print(label)\n",
        "for i in range(936):\n",
        "\n",
        "  Y_train[i]=label\n",
        "  if (i%104==0) and (i!=0):\n",
        "     label = label +1\n",
        "     print(label)"
      ],
      "metadata": {
        "colab": {
          "base_uri": "https://localhost:8080/"
        },
        "id": "Mk1BBLLSmEr4",
        "outputId": "f6bed34a-17f4-43d7-c193-1cbc21b3c8aa"
      },
      "execution_count": 8,
      "outputs": [
        {
          "output_type": "stream",
          "name": "stdout",
          "text": [
            "0\n",
            "1\n",
            "2\n",
            "3\n",
            "4\n",
            "5\n",
            "6\n",
            "7\n",
            "8\n"
          ]
        }
      ]
    },
    {
      "cell_type": "code",
      "source": [
        "Y_train[104:103*2]"
      ],
      "metadata": {
        "id": "_FIQEQbVm7vP",
        "colab": {
          "base_uri": "https://localhost:8080/"
        },
        "outputId": "bbeb11ca-6087-42c7-9623-349f66de58e1"
      },
      "execution_count": 9,
      "outputs": [
        {
          "output_type": "execute_result",
          "data": {
            "text/plain": [
              "array([[0.],\n",
              "       [1.],\n",
              "       [1.],\n",
              "       [1.],\n",
              "       [1.],\n",
              "       [1.],\n",
              "       [1.],\n",
              "       [1.],\n",
              "       [1.],\n",
              "       [1.],\n",
              "       [1.],\n",
              "       [1.],\n",
              "       [1.],\n",
              "       [1.],\n",
              "       [1.],\n",
              "       [1.],\n",
              "       [1.],\n",
              "       [1.],\n",
              "       [1.],\n",
              "       [1.],\n",
              "       [1.],\n",
              "       [1.],\n",
              "       [1.],\n",
              "       [1.],\n",
              "       [1.],\n",
              "       [1.],\n",
              "       [1.],\n",
              "       [1.],\n",
              "       [1.],\n",
              "       [1.],\n",
              "       [1.],\n",
              "       [1.],\n",
              "       [1.],\n",
              "       [1.],\n",
              "       [1.],\n",
              "       [1.],\n",
              "       [1.],\n",
              "       [1.],\n",
              "       [1.],\n",
              "       [1.],\n",
              "       [1.],\n",
              "       [1.],\n",
              "       [1.],\n",
              "       [1.],\n",
              "       [1.],\n",
              "       [1.],\n",
              "       [1.],\n",
              "       [1.],\n",
              "       [1.],\n",
              "       [1.],\n",
              "       [1.],\n",
              "       [1.],\n",
              "       [1.],\n",
              "       [1.],\n",
              "       [1.],\n",
              "       [1.],\n",
              "       [1.],\n",
              "       [1.],\n",
              "       [1.],\n",
              "       [1.],\n",
              "       [1.],\n",
              "       [1.],\n",
              "       [1.],\n",
              "       [1.],\n",
              "       [1.],\n",
              "       [1.],\n",
              "       [1.],\n",
              "       [1.],\n",
              "       [1.],\n",
              "       [1.],\n",
              "       [1.],\n",
              "       [1.],\n",
              "       [1.],\n",
              "       [1.],\n",
              "       [1.],\n",
              "       [1.],\n",
              "       [1.],\n",
              "       [1.],\n",
              "       [1.],\n",
              "       [1.],\n",
              "       [1.],\n",
              "       [1.],\n",
              "       [1.],\n",
              "       [1.],\n",
              "       [1.],\n",
              "       [1.],\n",
              "       [1.],\n",
              "       [1.],\n",
              "       [1.],\n",
              "       [1.],\n",
              "       [1.],\n",
              "       [1.],\n",
              "       [1.],\n",
              "       [1.],\n",
              "       [1.],\n",
              "       [1.],\n",
              "       [1.],\n",
              "       [1.],\n",
              "       [1.],\n",
              "       [1.],\n",
              "       [1.],\n",
              "       [1.]])"
            ]
          },
          "metadata": {},
          "execution_count": 9
        }
      ]
    },
    {
      "cell_type": "code",
      "execution_count": 10,
      "metadata": {
        "_uuid": "446814df733cfa6d1af6b1c824ae07d506d4394a",
        "id": "swNsXh17hPlS"
      },
      "outputs": [],
      "source": [
        "X_train = np.array(X_train)\n",
        "Y_train = np.array(Y_train)"
      ]
    },
    {
      "cell_type": "markdown",
      "source": [
        "---\n",
        "\n",
        "Y_train içerisinde sınıf kategorileştirme gerçekleştirildi.\n",
        "\n",
        "---\n",
        "\n"
      ],
      "metadata": {
        "id": "S_xJfusPE16j"
      }
    },
    {
      "cell_type": "code",
      "source": [
        "import tensorflow as tf\n",
        "\n",
        "Y_train = tf.keras.utils.to_categorical(Y_train, num_classes = 9)"
      ],
      "metadata": {
        "id": "F4_Kzf9hsuvE"
      },
      "execution_count": 11,
      "outputs": []
    },
    {
      "cell_type": "markdown",
      "source": [
        "---\n",
        "\n",
        "Test amaçlı olarak 101. ve 105. indislerde bulunan elemanların bulunduğu sınıflar ekrana bastırıldı. (Sırasıyla 1. ve 2. sınıflarda bulunuyorlar.)\n",
        "\n",
        "---\n",
        "\n"
      ],
      "metadata": {
        "id": "gOwNP0XSE9g5"
      }
    },
    {
      "cell_type": "code",
      "source": [
        "print(Y_train[101,:])\n",
        "print(Y_train[105,:])"
      ],
      "metadata": {
        "colab": {
          "base_uri": "https://localhost:8080/"
        },
        "id": "0Rzt8bPnudtp",
        "outputId": "f7599a88-a0f3-472b-c136-5b6deecb1a64"
      },
      "execution_count": 12,
      "outputs": [
        {
          "output_type": "stream",
          "name": "stdout",
          "text": [
            "[1. 0. 0. 0. 0. 0. 0. 0. 0.]\n",
            "[0. 1. 0. 0. 0. 0. 0. 0. 0.]\n"
          ]
        }
      ]
    },
    {
      "cell_type": "markdown",
      "metadata": {
        "_uuid": "77329c63e08164e2b0bb11e34de7b14b5cd0cdef",
        "id": "UbAI-zxJhPlT"
      },
      "source": [
        "# Plot Digits"
      ]
    },
    {
      "cell_type": "markdown",
      "source": [
        "---\n",
        "\n",
        "Belirtilen yüzdelikler sayesinde train, validation ve test sınıfları sırasıyla 70%, 10% ve 20% oranlara sahip oldu.\n",
        "\n",
        "---\n",
        "\n"
      ],
      "metadata": {
        "id": "r8i8AMzZFE9-"
      }
    },
    {
      "cell_type": "code",
      "execution_count": 13,
      "metadata": {
        "_uuid": "fbb906464bc6be7872b8eca49e6cc4604941816c",
        "id": "2_q4Hk_0hPlV",
        "colab": {
          "base_uri": "https://localhost:8080/"
        },
        "outputId": "ef61e515-c69f-4ae5-e366-82668d183f59"
      },
      "outputs": [
        {
          "output_type": "stream",
          "name": "stdout",
          "text": [
            "(655, 3600)\n",
            "(93, 3600)\n",
            "(188, 3600)\n"
          ]
        }
      ],
      "source": [
        "train_ratio = 0.70\n",
        "validation_ratio = 0.10\n",
        "test_ratio = 0.20\n",
        "\n",
        "# train is now 70% of the entire data set\n",
        "# the _junk suffix means that we drop that variable completely\n",
        "X_train, X_test, Y_train, Y_test = train_test_split(X_train, Y_train, test_size=1 - train_ratio, shuffle=True, random_state=0)\n",
        "\n",
        "# test is now 20% of the initial data set\n",
        "# validation is now 10% of the initial data set\n",
        "X_val, X_test, Y_val, Y_test = train_test_split(X_test, Y_test, test_size=test_ratio/(test_ratio + validation_ratio), shuffle=True, random_state=0) \n",
        "\n",
        "print(X_train.shape)\n",
        "print(X_val.shape)\n",
        "print(X_test.shape)"
      ]
    },
    {
      "cell_type": "markdown",
      "source": [
        "---\n",
        "\n",
        "Tüm sınıflara ekstra bir adet boyut eklendi.\n",
        "\n",
        "---\n",
        "\n"
      ],
      "metadata": {
        "id": "lxKlz8JXFQSL"
      }
    },
    {
      "cell_type": "code",
      "source": [
        "X_train = np.expand_dims(X_train, axis=1)\n",
        "X_val = np.expand_dims(X_val, axis=1)\n",
        "X_test = np.expand_dims(X_test, axis=1)\n",
        "Y_train = np.expand_dims(Y_train, axis=1)\n",
        "Y_val = np.expand_dims(Y_val, axis=1)\n",
        "Y_test = np.expand_dims(Y_test, axis=1)"
      ],
      "metadata": {
        "id": "VdYun-PXxGhO"
      },
      "execution_count": 14,
      "outputs": []
    },
    {
      "cell_type": "code",
      "source": [
        "import tensorflow_addons as tfa\n",
        "from keras import layers"
      ],
      "metadata": {
        "id": "MhTrYFvLntcO"
      },
      "execution_count": 15,
      "outputs": []
    },
    {
      "cell_type": "markdown",
      "source": [
        "---\n",
        "\n",
        "Modele ödevde belirtilen modelden farklı olarak ekstradan bir adet daha Dense eklendi. Sonrasında build edildi.\n",
        "\n",
        "---\n",
        "\n"
      ],
      "metadata": {
        "id": "DLLc7uWqFXBd"
      }
    },
    {
      "cell_type": "code",
      "execution_count": 16,
      "metadata": {
        "_uuid": "39f4eb788b9d8d1fd6d90bf8207aef93e0bf97a7",
        "id": "qr_GVZHChPlX"
      },
      "outputs": [],
      "source": [
        "model = Sequential()\n",
        "\n",
        "model.add(layers.GRU(32, input_shape=(1, 3600), return_sequences=True))\n",
        "model.add(layers.GRU(32, input_shape=(1, 3600), return_sequences=True))\n",
        "model.add(layers.GRU(32, input_shape=(1, 3600), return_sequences=True))\n",
        "model.add(layers.Dense(8))\n",
        "model.add(layers.Dropout(0.1))\n",
        "model.add(layers.Dense(8))\n",
        "model.add(layers.Dropout(0.1))\n",
        "model.add(layers.Dense(8))\n",
        "model.add(layers.Dropout(0.1))\n",
        "model.add(Dense(9, activation='softmax')) #burayi 9 yapacaksaniz"
      ]
    },
    {
      "cell_type": "code",
      "execution_count": 17,
      "metadata": {
        "_uuid": "5fd1c9e9fbb72c4b56b1e960821cf5d2b6c8c618",
        "id": "4fIvlq9ZhPlX",
        "colab": {
          "base_uri": "https://localhost:8080/"
        },
        "outputId": "1a5d3fec-b8b5-47d5-e554-649199b8b0df"
      },
      "outputs": [
        {
          "output_type": "stream",
          "name": "stdout",
          "text": [
            "Model: \"sequential\"\n",
            "_________________________________________________________________\n",
            " Layer (type)                Output Shape              Param #   \n",
            "=================================================================\n",
            " gru (GRU)                   (None, 1, 32)             348864    \n",
            "                                                                 \n",
            " gru_1 (GRU)                 (None, 1, 32)             6336      \n",
            "                                                                 \n",
            " gru_2 (GRU)                 (None, 1, 32)             6336      \n",
            "                                                                 \n",
            " dense (Dense)               (None, 1, 8)              264       \n",
            "                                                                 \n",
            " dropout (Dropout)           (None, 1, 8)              0         \n",
            "                                                                 \n",
            " dense_1 (Dense)             (None, 1, 8)              72        \n",
            "                                                                 \n",
            " dropout_1 (Dropout)         (None, 1, 8)              0         \n",
            "                                                                 \n",
            " dense_2 (Dense)             (None, 1, 8)              72        \n",
            "                                                                 \n",
            " dropout_2 (Dropout)         (None, 1, 8)              0         \n",
            "                                                                 \n",
            " dense_3 (Dense)             (None, 1, 9)              81        \n",
            "                                                                 \n",
            "=================================================================\n",
            "Total params: 362,025\n",
            "Trainable params: 362,025\n",
            "Non-trainable params: 0\n",
            "_________________________________________________________________\n"
          ]
        }
      ],
      "source": [
        "model.build()\n",
        "model.summary()"
      ]
    },
    {
      "cell_type": "markdown",
      "source": [
        "---\n",
        "\n",
        "Optimizer Adam olarak ayarlandı ve learning rate belirtildi.\n",
        "\n",
        "---\n",
        "\n"
      ],
      "metadata": {
        "id": "G14wszlaFjkV"
      }
    },
    {
      "cell_type": "code",
      "execution_count": 18,
      "metadata": {
        "_uuid": "d34ba8b4723050c33b3390d2a05220636c2f0f8a",
        "id": "SlLRbHXMhPlY",
        "colab": {
          "base_uri": "https://localhost:8080/"
        },
        "outputId": "2f72d09c-f430-4180-a142-06f623fb9314"
      },
      "outputs": [
        {
          "output_type": "stream",
          "name": "stderr",
          "text": [
            "/usr/local/lib/python3.8/dist-packages/keras/optimizers/optimizer_v2/adam.py:110: UserWarning: The `lr` argument is deprecated, use `learning_rate` instead.\n",
            "  super(Adam, self).__init__(name, **kwargs)\n"
          ]
        }
      ],
      "source": [
        "adam = Adam(lr=1e-3)\n",
        "model.compile(loss='categorical_crossentropy', metrics=['accuracy'], optimizer=adam)"
      ]
    },
    {
      "cell_type": "markdown",
      "source": [
        "---\n",
        "\n",
        "Modelin kaydedileceği dosya belirtildi. Early_stop ve reduce_lr koşulları model fit edilirken parametre olarak eklenecek şekilde build edildi.\n",
        "\n",
        "---\n",
        "\n"
      ],
      "metadata": {
        "id": "29yGbKDpFq7h"
      }
    },
    {
      "cell_type": "code",
      "execution_count": 19,
      "metadata": {
        "_uuid": "f0dfd9488061194f9ef01a57d62f10e0de8fa028",
        "id": "U2HdVANWhPlY"
      },
      "outputs": [],
      "source": [
        "# Set a learning rate annealer\n",
        "import tensorflow as tf\n",
        "\n",
        "\n",
        "model_name_save= '/content/GearFaultModel.hdf5'\n",
        "checkpoint = tf.keras.callbacks.ModelCheckpoint(model_name_save, save_freq='epoch', monitor='val_accuracy', verbose=1, save_best_only=True, mode='max')  \n",
        "early_stop = tf.keras.callbacks.EarlyStopping(  monitor='val_accuracy', patience=12, verbose=1,  mode='max',restore_best_weights=False)\n",
        "reduce_lr = tf.keras.callbacks.ReduceLROnPlateau(  monitor='val_accuracy', factor=0.3, patience=7,  min_lr=1e-5, verbose=1,  mode='max')\n"
      ]
    },
    {
      "cell_type": "code",
      "source": [
        "X_train.shape"
      ],
      "metadata": {
        "colab": {
          "base_uri": "https://localhost:8080/"
        },
        "id": "9ZGkgqdYx8JR",
        "outputId": "af6097eb-02f8-40f0-e5ed-8099ebd51f0d"
      },
      "execution_count": 20,
      "outputs": [
        {
          "output_type": "execute_result",
          "data": {
            "text/plain": [
              "(655, 1, 3600)"
            ]
          },
          "metadata": {},
          "execution_count": 20
        }
      ]
    },
    {
      "cell_type": "markdown",
      "source": [
        "---\n",
        "\n",
        "Model fit edildi. Early stop parametresine takıldı.\n",
        "\n",
        "---\n",
        "\n"
      ],
      "metadata": {
        "id": "jdHhGQyiF2vC"
      }
    },
    {
      "cell_type": "code",
      "execution_count": 21,
      "metadata": {
        "_uuid": "b6441c7f0b7ad33d1e3ca91b3d82f91a28b6f42a",
        "id": "LQxRSwxGhPlZ",
        "colab": {
          "base_uri": "https://localhost:8080/"
        },
        "outputId": "0f2fbf01-8ea1-42a2-c02e-3b4dbec21e11"
      },
      "outputs": [
        {
          "output_type": "stream",
          "name": "stdout",
          "text": [
            "Epoch 1/50\n",
            " 8/11 [====================>.........] - ETA: 0s - loss: 2.1762 - accuracy: 0.1445  \n",
            "Epoch 1: val_accuracy improved from -inf to 0.26882, saving model to /content/GearFaultModel.hdf5\n",
            "11/11 [==============================] - 10s 107ms/step - loss: 2.1689 - accuracy: 0.1542 - val_loss: 2.0786 - val_accuracy: 0.2688\n",
            "Epoch 2/50\n",
            " 8/11 [====================>.........] - ETA: 0s - loss: 2.0365 - accuracy: 0.2676\n",
            "Epoch 2: val_accuracy improved from 0.26882 to 0.27957, saving model to /content/GearFaultModel.hdf5\n",
            "11/11 [==============================] - 0s 15ms/step - loss: 2.0280 - accuracy: 0.2641 - val_loss: 1.8628 - val_accuracy: 0.2796\n",
            "Epoch 3/50\n",
            "11/11 [==============================] - ETA: 0s - loss: 1.8138 - accuracy: 0.3542\n",
            "Epoch 3: val_accuracy improved from 0.27957 to 0.38710, saving model to /content/GearFaultModel.hdf5\n",
            "11/11 [==============================] - 0s 19ms/step - loss: 1.8138 - accuracy: 0.3542 - val_loss: 1.6435 - val_accuracy: 0.3871\n",
            "Epoch 4/50\n",
            " 7/11 [==================>...........] - ETA: 0s - loss: 1.5920 - accuracy: 0.4442\n",
            "Epoch 4: val_accuracy improved from 0.38710 to 0.44086, saving model to /content/GearFaultModel.hdf5\n",
            "11/11 [==============================] - 0s 18ms/step - loss: 1.5755 - accuracy: 0.4443 - val_loss: 1.3828 - val_accuracy: 0.4409\n",
            "Epoch 5/50\n",
            " 8/11 [====================>.........] - ETA: 0s - loss: 1.3235 - accuracy: 0.5273\n",
            "Epoch 5: val_accuracy improved from 0.44086 to 0.66667, saving model to /content/GearFaultModel.hdf5\n",
            "11/11 [==============================] - 0s 16ms/step - loss: 1.3046 - accuracy: 0.5405 - val_loss: 1.1408 - val_accuracy: 0.6667\n",
            "Epoch 6/50\n",
            " 8/11 [====================>.........] - ETA: 0s - loss: 1.1043 - accuracy: 0.5762\n",
            "Epoch 6: val_accuracy improved from 0.66667 to 0.72043, saving model to /content/GearFaultModel.hdf5\n",
            "11/11 [==============================] - 0s 15ms/step - loss: 1.0923 - accuracy: 0.5786 - val_loss: 1.0080 - val_accuracy: 0.7204\n",
            "Epoch 7/50\n",
            " 8/11 [====================>.........] - ETA: 0s - loss: 0.9404 - accuracy: 0.6211\n",
            "Epoch 7: val_accuracy improved from 0.72043 to 0.73118, saving model to /content/GearFaultModel.hdf5\n",
            "11/11 [==============================] - 0s 16ms/step - loss: 0.9294 - accuracy: 0.6198 - val_loss: 0.9204 - val_accuracy: 0.7312\n",
            "Epoch 8/50\n",
            " 8/11 [====================>.........] - ETA: 0s - loss: 0.8212 - accuracy: 0.6445\n",
            "Epoch 8: val_accuracy improved from 0.73118 to 0.74194, saving model to /content/GearFaultModel.hdf5\n",
            "11/11 [==============================] - 0s 16ms/step - loss: 0.7918 - accuracy: 0.6595 - val_loss: 0.8900 - val_accuracy: 0.7419\n",
            "Epoch 9/50\n",
            " 5/11 [============>.................] - ETA: 0s - loss: 0.7489 - accuracy: 0.6875\n",
            "Epoch 9: val_accuracy improved from 0.74194 to 0.78495, saving model to /content/GearFaultModel.hdf5\n",
            "11/11 [==============================] - 0s 17ms/step - loss: 0.7047 - accuracy: 0.6901 - val_loss: 0.8377 - val_accuracy: 0.7849\n",
            "Epoch 10/50\n",
            " 7/11 [==================>...........] - ETA: 0s - loss: 0.6480 - accuracy: 0.7567\n",
            "Epoch 10: val_accuracy improved from 0.78495 to 0.84946, saving model to /content/GearFaultModel.hdf5\n",
            "11/11 [==============================] - 0s 17ms/step - loss: 0.6296 - accuracy: 0.7588 - val_loss: 0.8390 - val_accuracy: 0.8495\n",
            "Epoch 11/50\n",
            " 8/11 [====================>.........] - ETA: 0s - loss: 0.5924 - accuracy: 0.7734\n",
            "Epoch 11: val_accuracy did not improve from 0.84946\n",
            "11/11 [==============================] - 0s 11ms/step - loss: 0.6008 - accuracy: 0.7634 - val_loss: 0.8692 - val_accuracy: 0.8280\n",
            "Epoch 12/50\n",
            " 7/11 [==================>...........] - ETA: 0s - loss: 0.5715 - accuracy: 0.7612\n",
            "Epoch 12: val_accuracy improved from 0.84946 to 0.87097, saving model to /content/GearFaultModel.hdf5\n",
            "11/11 [==============================] - 0s 16ms/step - loss: 0.5347 - accuracy: 0.7924 - val_loss: 0.8953 - val_accuracy: 0.8710\n",
            "Epoch 13/50\n",
            " 8/11 [====================>.........] - ETA: 0s - loss: 0.4344 - accuracy: 0.8320\n",
            "Epoch 13: val_accuracy improved from 0.87097 to 0.89247, saving model to /content/GearFaultModel.hdf5\n",
            "11/11 [==============================] - 0s 15ms/step - loss: 0.4480 - accuracy: 0.8290 - val_loss: 0.8755 - val_accuracy: 0.8925\n",
            "Epoch 14/50\n",
            " 8/11 [====================>.........] - ETA: 0s - loss: 0.4141 - accuracy: 0.8555\n",
            "Epoch 14: val_accuracy did not improve from 0.89247\n",
            "11/11 [==============================] - 0s 11ms/step - loss: 0.4246 - accuracy: 0.8519 - val_loss: 0.8739 - val_accuracy: 0.8817\n",
            "Epoch 15/50\n",
            " 8/11 [====================>.........] - ETA: 0s - loss: 0.3403 - accuracy: 0.8867\n",
            "Epoch 15: val_accuracy did not improve from 0.89247\n",
            "11/11 [==============================] - 0s 12ms/step - loss: 0.3463 - accuracy: 0.8809 - val_loss: 0.8972 - val_accuracy: 0.8925\n",
            "Epoch 16/50\n",
            " 7/11 [==================>...........] - ETA: 0s - loss: 0.3786 - accuracy: 0.8661\n",
            "Epoch 16: val_accuracy improved from 0.89247 to 0.90323, saving model to /content/GearFaultModel.hdf5\n",
            "11/11 [==============================] - 0s 18ms/step - loss: 0.3467 - accuracy: 0.8840 - val_loss: 0.8987 - val_accuracy: 0.9032\n",
            "Epoch 17/50\n",
            " 7/11 [==================>...........] - ETA: 0s - loss: 0.3335 - accuracy: 0.8616\n",
            "Epoch 17: val_accuracy did not improve from 0.90323\n",
            "11/11 [==============================] - 0s 12ms/step - loss: 0.3456 - accuracy: 0.8580 - val_loss: 0.9261 - val_accuracy: 0.9032\n",
            "Epoch 18/50\n",
            " 8/11 [====================>.........] - ETA: 0s - loss: 0.3044 - accuracy: 0.8965\n",
            "Epoch 18: val_accuracy improved from 0.90323 to 0.91398, saving model to /content/GearFaultModel.hdf5\n",
            "11/11 [==============================] - 0s 15ms/step - loss: 0.2860 - accuracy: 0.9038 - val_loss: 0.9145 - val_accuracy: 0.9140\n",
            "Epoch 19/50\n",
            " 8/11 [====================>.........] - ETA: 0s - loss: 0.2750 - accuracy: 0.9043\n",
            "Epoch 19: val_accuracy did not improve from 0.91398\n",
            "11/11 [==============================] - 0s 11ms/step - loss: 0.2853 - accuracy: 0.8992 - val_loss: 0.9322 - val_accuracy: 0.9140\n",
            "Epoch 20/50\n",
            " 8/11 [====================>.........] - ETA: 0s - loss: 0.2747 - accuracy: 0.8965\n",
            "Epoch 20: val_accuracy did not improve from 0.91398\n",
            "11/11 [==============================] - 0s 11ms/step - loss: 0.2501 - accuracy: 0.9084 - val_loss: 0.9702 - val_accuracy: 0.9032\n",
            "Epoch 21/50\n",
            " 8/11 [====================>.........] - ETA: 0s - loss: 0.2351 - accuracy: 0.9023\n",
            "Epoch 21: val_accuracy did not improve from 0.91398\n",
            "11/11 [==============================] - 0s 11ms/step - loss: 0.2246 - accuracy: 0.9069 - val_loss: 1.0010 - val_accuracy: 0.9140\n",
            "Epoch 22/50\n",
            " 8/11 [====================>.........] - ETA: 0s - loss: 0.2094 - accuracy: 0.9355\n",
            "Epoch 22: val_accuracy did not improve from 0.91398\n",
            "11/11 [==============================] - 0s 10ms/step - loss: 0.2049 - accuracy: 0.9359 - val_loss: 1.0175 - val_accuracy: 0.9032\n",
            "Epoch 23/50\n",
            " 7/11 [==================>...........] - ETA: 0s - loss: 0.2214 - accuracy: 0.9040\n",
            "Epoch 23: val_accuracy did not improve from 0.91398\n",
            "11/11 [==============================] - 0s 11ms/step - loss: 0.2148 - accuracy: 0.9115 - val_loss: 1.0552 - val_accuracy: 0.9032\n",
            "Epoch 24/50\n",
            " 7/11 [==================>...........] - ETA: 0s - loss: 0.2056 - accuracy: 0.9241\n",
            "Epoch 24: val_accuracy did not improve from 0.91398\n",
            "11/11 [==============================] - 0s 11ms/step - loss: 0.2083 - accuracy: 0.9252 - val_loss: 1.0469 - val_accuracy: 0.9032\n",
            "Epoch 25/50\n",
            " 8/11 [====================>.........] - ETA: 0s - loss: 0.1672 - accuracy: 0.9297\n",
            "Epoch 25: val_accuracy did not improve from 0.91398\n",
            "11/11 [==============================] - 0s 11ms/step - loss: 0.1793 - accuracy: 0.9252 - val_loss: 1.0588 - val_accuracy: 0.9032\n",
            "Epoch 26/50\n",
            " 7/11 [==================>...........] - ETA: 0s - loss: 0.1804 - accuracy: 0.9420\n",
            "Epoch 26: val_accuracy did not improve from 0.91398\n",
            "11/11 [==============================] - 0s 11ms/step - loss: 0.1845 - accuracy: 0.9359 - val_loss: 1.0415 - val_accuracy: 0.9032\n",
            "Epoch 27/50\n",
            " 8/11 [====================>.........] - ETA: 0s - loss: 0.1899 - accuracy: 0.9336\n",
            "Epoch 27: val_accuracy did not improve from 0.91398\n",
            "11/11 [==============================] - 0s 11ms/step - loss: 0.1787 - accuracy: 0.9374 - val_loss: 1.1287 - val_accuracy: 0.9032\n",
            "Epoch 28/50\n",
            " 8/11 [====================>.........] - ETA: 0s - loss: 0.1422 - accuracy: 0.9434\n",
            "Epoch 28: val_accuracy did not improve from 0.91398\n",
            "11/11 [==============================] - 0s 11ms/step - loss: 0.1390 - accuracy: 0.9466 - val_loss: 1.1982 - val_accuracy: 0.9140\n",
            "Epoch 29/50\n",
            " 8/11 [====================>.........] - ETA: 0s - loss: 0.1366 - accuracy: 0.9492\n",
            "Epoch 29: val_accuracy did not improve from 0.91398\n",
            "11/11 [==============================] - 0s 11ms/step - loss: 0.1382 - accuracy: 0.9496 - val_loss: 1.2521 - val_accuracy: 0.9140\n",
            "Epoch 30/50\n",
            " 8/11 [====================>.........] - ETA: 0s - loss: 0.1353 - accuracy: 0.9531\n",
            "Epoch 30: val_accuracy did not improve from 0.91398\n",
            "11/11 [==============================] - 0s 10ms/step - loss: 0.1448 - accuracy: 0.9466 - val_loss: 1.2665 - val_accuracy: 0.9140\n",
            "Epoch 30: early stopping\n"
          ]
        }
      ],
      "source": [
        "history = model.fit(X_train, Y_train, validation_data=(X_val, Y_val), epochs=50, batch_size=64, callbacks=[checkpoint, early_stop])"
      ]
    },
    {
      "cell_type": "markdown",
      "source": [
        "---\n",
        "\n",
        "Train, validation ve test sınıfları evaluate edildi. Her bir sınıfın loss ve accuracy değerleri ekrana bastırıldı.\n",
        "\n",
        "---"
      ],
      "metadata": {
        "id": "OWLdS1XxF8Gv"
      }
    },
    {
      "cell_type": "code",
      "source": [
        "test_scores = model.evaluate(X_test, Y_test)\n",
        "val_scores = model.evaluate(X_val, Y_val)\n",
        "train_scores = model.evaluate(X_val, Y_val)"
      ],
      "metadata": {
        "colab": {
          "base_uri": "https://localhost:8080/"
        },
        "id": "-ZxAb02JC8JY",
        "outputId": "995174cb-0495-4f9c-fbba-3b16fc97bafe"
      },
      "execution_count": 22,
      "outputs": [
        {
          "output_type": "stream",
          "name": "stdout",
          "text": [
            "6/6 [==============================] - 0s 5ms/step - loss: 0.4850 - accuracy: 0.9468\n",
            "3/3 [==============================] - 0s 7ms/step - loss: 1.2665 - accuracy: 0.9140\n",
            "3/3 [==============================] - 0s 6ms/step - loss: 1.2665 - accuracy: 0.9140\n"
          ]
        }
      ]
    },
    {
      "cell_type": "code",
      "source": [
        "print('             Test Scores')\n",
        "print('Loss         : ', test_scores[0])\n",
        "print('Accuracy     : ', test_scores[1])"
      ],
      "metadata": {
        "colab": {
          "base_uri": "https://localhost:8080/"
        },
        "id": "SK0jpt_yHmO5",
        "outputId": "03fb1135-4ac4-43b8-9111-2dffb234567d"
      },
      "execution_count": 23,
      "outputs": [
        {
          "output_type": "stream",
          "name": "stdout",
          "text": [
            "             Test Scores\n",
            "Loss         :  0.48498570919036865\n",
            "Accuracy     :  0.9468085169792175\n"
          ]
        }
      ]
    },
    {
      "cell_type": "code",
      "source": [
        "print('             Validation Scores')\n",
        "print('Loss         : ', val_scores[0])\n",
        "print('Accuracy     : ', val_scores[1])"
      ],
      "metadata": {
        "colab": {
          "base_uri": "https://localhost:8080/"
        },
        "id": "mtv5OW0IRzmo",
        "outputId": "e169359a-ff72-4ffc-e250-b3acd5eb96b3"
      },
      "execution_count": 24,
      "outputs": [
        {
          "output_type": "stream",
          "name": "stdout",
          "text": [
            "             Validation Scores\n",
            "Loss         :  1.2665098905563354\n",
            "Accuracy     :  0.9139785170555115\n"
          ]
        }
      ]
    },
    {
      "cell_type": "code",
      "source": [
        "print('             Train Scores')\n",
        "print('Loss         : ', train_scores[0])\n",
        "print('Accuracy     : ', train_scores[1])"
      ],
      "metadata": {
        "colab": {
          "base_uri": "https://localhost:8080/"
        },
        "id": "JISYgSQJBjGo",
        "outputId": "3ec3f7dd-eea2-4c24-c7c9-e0a8f6c3b7de"
      },
      "execution_count": 25,
      "outputs": [
        {
          "output_type": "stream",
          "name": "stdout",
          "text": [
            "             Train Scores\n",
            "Loss         :  1.2665098905563354\n",
            "Accuracy     :  0.9139785170555115\n"
          ]
        }
      ]
    },
    {
      "cell_type": "markdown",
      "metadata": {
        "_uuid": "53f5237ef36125cc68508a0158fef0fda1a5b53e",
        "id": "nYEKEVbFhPla"
      },
      "source": [
        "# Let's predict test data"
      ]
    },
    {
      "cell_type": "markdown",
      "source": [
        "---\n",
        "\n",
        "Model predict edildi. Y_pred ve Y_test sınıflarının boyutları ekrana bastırıldı. Confusion matrix elde edebilmek için Y_test sınıfı 3 boyuttan 2 sınıfa düşürüldü. (reshape)\n",
        "\n",
        "---"
      ],
      "metadata": {
        "id": "3WytciavGTki"
      }
    },
    {
      "cell_type": "code",
      "execution_count": 26,
      "metadata": {
        "_uuid": "065f63d7fe1610827e0a88473c9c4e7504fddcd6",
        "id": "k-JHVPRThPlb",
        "colab": {
          "base_uri": "https://localhost:8080/"
        },
        "outputId": "03d525b0-af6b-44a2-f4ba-ccde394def01"
      },
      "outputs": [
        {
          "output_type": "stream",
          "name": "stdout",
          "text": [
            "188/188 [==============================] - 1s 2ms/step\n"
          ]
        }
      ],
      "source": [
        "Y_pred = model.predict(X_test, batch_size=1)\n",
        "Y_pred = Y_pred.squeeze()"
      ]
    },
    {
      "cell_type": "code",
      "source": [
        "print(Y_pred.shape)\n",
        "print(Y_test.shape)"
      ],
      "metadata": {
        "colab": {
          "base_uri": "https://localhost:8080/"
        },
        "id": "m-Puef3Fm0I0",
        "outputId": "bb7968a2-dd70-4c0d-f9ca-246174c03f28"
      },
      "execution_count": 27,
      "outputs": [
        {
          "output_type": "stream",
          "name": "stdout",
          "text": [
            "(188, 9)\n",
            "(188, 1, 9)\n"
          ]
        }
      ]
    },
    {
      "cell_type": "code",
      "source": [
        "Y_test = np.reshape(Y_test, (Y_test.shape[0],Y_test.shape[2]))"
      ],
      "metadata": {
        "id": "qxdvjfsYn62k"
      },
      "execution_count": 28,
      "outputs": []
    },
    {
      "cell_type": "code",
      "source": [
        "print(Y_test.shape)"
      ],
      "metadata": {
        "colab": {
          "base_uri": "https://localhost:8080/"
        },
        "id": "hkTw0psToAaN",
        "outputId": "5befe89b-dc53-4a3c-883e-4e8f76246b11"
      },
      "execution_count": 29,
      "outputs": [
        {
          "output_type": "stream",
          "name": "stdout",
          "text": [
            "(188, 9)\n"
          ]
        }
      ]
    },
    {
      "cell_type": "code",
      "source": [
        "from sklearn.metrics import mean_squared_error"
      ],
      "metadata": {
        "id": "rUcPd6ItmB4E"
      },
      "execution_count": 30,
      "outputs": []
    },
    {
      "cell_type": "markdown",
      "source": [
        "---\n",
        "\n",
        "GRU modelinin hata değerleri ekrana bastırıldı.\n",
        "\n",
        "---"
      ],
      "metadata": {
        "id": "0C9Aq5lOGYE_"
      }
    },
    {
      "cell_type": "code",
      "source": [
        "errors = Y_pred - Y_test\n",
        "mse = np.square(errors).mean()\n",
        "rmse = np.sqrt(mse)\n",
        "mae = np.abs(errors).mean()\n",
        "print(\"GRU:\")\n",
        "print(\"Mean Absolute Error: {:.4f}\".format(mae))\n",
        "print(\"Mean Squared Error: {:.4f}\".format(mse))\n",
        "print(\"Root Mean Squared Error: {:.4f}\".format(rmse))"
      ],
      "metadata": {
        "colab": {
          "base_uri": "https://localhost:8080/"
        },
        "id": "sZqMwQbFlMVc",
        "outputId": "3099f720-d88d-4fe1-d3a3-adf5ad928e34"
      },
      "execution_count": 31,
      "outputs": [
        {
          "output_type": "stream",
          "name": "stdout",
          "text": [
            "GRU:\n",
            "Mean Absolute Error: 0.0147\n",
            "Mean Squared Error: 0.0108\n",
            "Root Mean Squared Error: 0.1042\n"
          ]
        }
      ]
    },
    {
      "cell_type": "code",
      "source": [
        "from sklearn.metrics import classification_report, confusion_matrix, accuracy_score"
      ],
      "metadata": {
        "id": "T3vOpWFJoP_o"
      },
      "execution_count": 32,
      "outputs": []
    },
    {
      "cell_type": "markdown",
      "source": [
        "---\n",
        "\n",
        "Accuracy skoru farklı bir fonksiyon ile ekrana bastırıldı. (Tahminimce Y_pred round edildiğinden dolayı doğru değeri veremiyor. round işlemi gerçekleştirilmediğinde program hata fırlatıyor.)\n",
        "\n",
        "---"
      ],
      "metadata": {
        "id": "_RghFJvmGbZ_"
      }
    },
    {
      "cell_type": "code",
      "source": [
        "accuracy_score(Y_test, Y_pred.round(), normalize=True)"
      ],
      "metadata": {
        "colab": {
          "base_uri": "https://localhost:8080/"
        },
        "id": "_WP4P6W6oIVQ",
        "outputId": "4c195202-13f6-455c-a6cf-8713d9050525"
      },
      "execution_count": 33,
      "outputs": [
        {
          "output_type": "execute_result",
          "data": {
            "text/plain": [
              "0.9468085106382979"
            ]
          },
          "metadata": {},
          "execution_count": 33
        }
      ]
    },
    {
      "cell_type": "code",
      "source": [
        "from sklearn.metrics import confusion_matrix\n",
        "import seaborn as sn\n",
        "import pandas as pd\n",
        "import matplotlib.pyplot as plt"
      ],
      "metadata": {
        "id": "arlRpj1UuuT5"
      },
      "execution_count": 34,
      "outputs": []
    },
    {
      "cell_type": "markdown",
      "source": [
        "---\n",
        "\n",
        "Confusion matrix ekrana görselleştirilmiş bir şekilde bastırılıyor.\n",
        "\n",
        "---"
      ],
      "metadata": {
        "id": "OINb4JAOGoEd"
      }
    },
    {
      "cell_type": "code",
      "source": [
        "target_names = ['Healthy','Missing','Crack','Spall','Chip5a','Chip4a','Chip3a','Chip2a','Chip1a']\n",
        "array = confusion_matrix(Y_test.argmax(axis=1), Y_pred.argmax(axis=1))\n",
        "\n",
        "df_cm = pd.DataFrame(array, index = [i for i in target_names],\n",
        "                     columns = [i for i in target_names])\n",
        "sn.set(font_scale=1.2) # for label size\n",
        "sn.heatmap(df_cm, annot=True, annot_kws={\"size\": 16}) # font size\n",
        "\n",
        "plt.title(\"Confusion Matrix\")\n",
        "plt.xlabel(\"Predicted label\")\n",
        "plt.ylabel(\"True label\")\n",
        "plt.show()"
      ],
      "metadata": {
        "colab": {
          "base_uri": "https://localhost:8080/",
          "height": 344
        },
        "id": "tGI1KvrK00Gf",
        "outputId": "748a707a-515a-491b-b85b-55511d533cff"
      },
      "execution_count": 35,
      "outputs": [
        {
          "output_type": "display_data",
          "data": {
            "text/plain": [
              "<Figure size 432x288 with 2 Axes>"
            ],
            "image/png": "[encoded data removed]"
          },
          "metadata": {}
        }
      ]
    },
    {
      "cell_type": "markdown",
      "source": [
        "---\n",
        "\n",
        "Classification report, precision, recall, f1-score ve sınıfların sahip olduğu eleman sayılarını ve son olarak accuracy skorunu ekrana bastıracak şekilde bastırılıyor.\n",
        "\n",
        "---"
      ],
      "metadata": {
        "id": "00ULU8soGrxf"
      }
    },
    {
      "cell_type": "code",
      "source": [
        "print('Classification Report')\n",
        "target_names = ['Healthy','Missing','Crack','Spall','Chip5a','Chip4a','Chip3a','Chip2a','Chip1a']\n",
        "print(classification_report(Y_test.argmax(axis=1), Y_pred.argmax(axis=1), target_names=target_names))"
      ],
      "metadata": {
        "colab": {
          "base_uri": "https://localhost:8080/"
        },
        "id": "bBJ-dtlJ0g7z",
        "outputId": "73f9a82f-d828-4a4b-ca26-d69b7fdd5830"
      },
      "execution_count": 36,
      "outputs": [
        {
          "output_type": "stream",
          "name": "stdout",
          "text": [
            "Classification Report\n",
            "              precision    recall  f1-score   support\n",
            "\n",
            "     Healthy       1.00      1.00      1.00        24\n",
            "     Missing       1.00      1.00      1.00        18\n",
            "       Crack       0.89      1.00      0.94        24\n",
            "       Spall       1.00      0.65      0.79        20\n",
            "      Chip5a       1.00      0.92      0.96        13\n",
            "      Chip4a       0.90      1.00      0.95        19\n",
            "      Chip3a       0.86      0.95      0.90        20\n",
            "      Chip2a       0.93      1.00      0.96        25\n",
            "      Chip1a       1.00      0.96      0.98        25\n",
            "\n",
            "    accuracy                           0.95       188\n",
            "   macro avg       0.95      0.94      0.94       188\n",
            "weighted avg       0.95      0.95      0.94       188\n",
            "\n"
          ]
        }
      ]
    },
    {
      "cell_type": "markdown",
      "source": [
        "---\n",
        "\n",
        "Train ve test sınıflarının epoch esnasında elde ettikleri hata değerleri grafik halinde ekrana bastırılıyor.\n",
        "\n",
        "---"
      ],
      "metadata": {
        "id": "aUkPzXOBG1wB"
      }
    },
    {
      "cell_type": "code",
      "source": [
        "import matplotlib.pyplot as plt\n",
        "\n",
        "plt.figure(figsize=(20,6))\n",
        "plt.plot(history.history['loss'], label='Train Loss')\n",
        "plt.plot(history.history['val_loss'], label='Validation Loss')\n",
        "plt.title('model loss')\n",
        "plt.ylabel('loss')\n",
        "plt.xlabel('epochs')\n",
        "plt.legend(loc='upper right')\n",
        "plt.show()\n",
        "     "
      ],
      "metadata": {
        "colab": {
          "base_uri": "https://localhost:8080/",
          "height": 415
        },
        "id": "D19MULl5iOLV",
        "outputId": "2c98ed10-2f15-4f50-dfa6-ab09a92ec2f0"
      },
      "execution_count": 39,
      "outputs": [
        {
          "output_type": "display_data",
          "data": {
            "text/plain": [
              "<Figure size 1440x432 with 1 Axes>"
            ],
            "image/png": "[encoded data removed]"
          },
          "metadata": {}
        }
      ]
    },
    {
      "cell_type": "code",
      "source": [
        "plt.figure(figsize=(10,5))\n",
        "plt.title('Accuracy')\n",
        "plt.plot(history.history['accuracy'], label='Train Accuracy')\n",
        "plt.plot(history.history['val_accuracy'], label='Validation Accuracy')\n",
        "plt.ylabel('accuracy rate')\n",
        "plt.xlabel('epochs')\n",
        "plt.legend()\n",
        "plt.show()"
      ],
      "metadata": {
        "colab": {
          "base_uri": "https://localhost:8080/",
          "height": 360
        },
        "id": "8NkyRCUxkU6q",
        "outputId": "94eab079-e91d-45f8-a10e-11a1b937f4ff"
      },
      "execution_count": 38,
      "outputs": [
        {
          "output_type": "display_data",
          "data": {
            "text/plain": [
              "<Figure size 720x360 with 1 Axes>"
            ],
            "image/png": "[encoded data removed]"
          },
          "metadata": {}
        }
      ]
    }
  ],
  "metadata": {
    "kernelspec": {
      "display_name": "Python 3",
      "language": "python",
      "name": "python3"
    },
    "language_info": {
      "codemirror_mode": {
        "name": "ipython",
        "version": 3
      },
      "file_extension": ".py",
      "mimetype": "text/x-python",
      "name": "python",
      "nbconvert_exporter": "python",
      "pygments_lexer": "ipython3",
      "version": "3.6.6"
    },
    "colab": {
      "provenance": [],
      "machine_shape": "hm"
    },
    "accelerator": "GPU",
    "gpuClass": "standard"
  },
  "nbformat": 4,
  "nbformat_minor": 0
}